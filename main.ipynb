{
 "cells": [
  {
   "cell_type": "code",
   "execution_count": null,
   "metadata": {},
   "outputs": [],
   "source": [
    "import numpy as np"
   ]
  },
  {
   "cell_type": "code",
   "execution_count": null,
   "metadata": {},
   "outputs": [],
   "source": [
    "def to_binary(val: int, bits: int):\n",
    "    bits = [val>>i &1 for i in range(bits, -1, -1)]\n",
    "    return bits\n",
    "\n",
    "def find_max_cut(adjacency: np.array):\n",
    "    shape = adjacency.shape\n",
    "    if (len(shape) != 2) or (shape[0] != shape[1]):\n",
    "        raise ValueError('adjacency matrix should have a squre shape')\n",
    "    n, _ = shape\n",
    "    print(n)\n",
    "    for i in range(2**n):\n",
    "        bits = to_binary(i, n)\n",
    "        print(bits)"
   ]
  },
  {
   "cell_type": "code",
   "execution_count": null,
   "metadata": {},
   "outputs": [],
   "source": []
  }
 ],
 "metadata": {
  "kernelspec": {
   "display_name": "Python 3 (ipykernel)",
   "language": "python",
   "name": "python3"
  },
  "language_info": {
   "codemirror_mode": {
    "name": "ipython",
    "version": 3
   },
   "file_extension": ".py",
   "mimetype": "text/x-python",
   "name": "python",
   "nbconvert_exporter": "python",
   "pygments_lexer": "ipython3",
   "version": "3.8.10"
  }
 },
 "nbformat": 4,
 "nbformat_minor": 2
}
